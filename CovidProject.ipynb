{
 "cells": [
  {
   "cell_type": "code",
   "execution_count": 11,
   "id": "16e97e86-e03f-48b7-89b3-86a5ce43490f",
   "metadata": {},
   "outputs": [],
   "source": [
    "import pandas as pd\n",
    "import numpy as np\n",
    "import seaborn as sns\n",
    "import matplotlib.pyplot as plt\n",
    "import plotly.express as px\n",
    "from plotly.subplots import make_subplots\n",
    "from datetime import datetime"
   ]
  },
  {
   "cell_type": "code",
   "execution_count": 12,
   "id": "3906b13d-958a-4095-8cef-f6b1a9b4eed6",
   "metadata": {},
   "outputs": [],
   "source": [
    "covid_df=pd.read_csv(\"C:/Users/Prateek/Desktop/Data Science/covid_19_india.csv\")"
   ]
  },
  {
   "cell_type": "code",
   "execution_count": null,
   "id": "615f8a8a-0ca3-432a-bf09-6b970acbc240",
   "metadata": {},
   "outputs": [],
   "source": []
  },
  {
   "cell_type": "code",
   "execution_count": 13,
   "id": "2da29778-2c80-4cda-82e1-4e8dd227ff8c",
   "metadata": {},
   "outputs": [
    {
     "ename": "NameError",
     "evalue": "name 'data' is not defined",
     "output_type": "error",
     "traceback": [
      "\u001b[1;31m---------------------------------------------------------------------------\u001b[0m",
      "\u001b[1;31mNameError\u001b[0m                                 Traceback (most recent call last)",
      "Cell \u001b[1;32mIn[13], line 1\u001b[0m\n\u001b[1;32m----> 1\u001b[0m data\u001b[38;5;241m.\u001b[39mcolumns\n",
      "\u001b[1;31mNameError\u001b[0m: name 'data' is not defined"
     ]
    }
   ],
   "source": [
    "data.columns"
   ]
  },
  {
   "cell_type": "code",
   "execution_count": null,
   "id": "a1d0c965-0717-49b0-8f99-660299d538b6",
   "metadata": {},
   "outputs": [],
   "source": [
    "data.tail()"
   ]
  },
  {
   "cell_type": "code",
   "execution_count": null,
   "id": "2cb632ff-7d1f-4959-82cb-676c56dc8b68",
   "metadata": {},
   "outputs": [],
   "source": []
  },
  {
   "cell_type": "code",
   "execution_count": null,
   "id": "a5cbb6cf-7f7f-4995-8cad-a5d4677352e4",
   "metadata": {},
   "outputs": [],
   "source": [
    "data.isnull().sum()"
   ]
  },
  {
   "cell_type": "code",
   "execution_count": null,
   "id": "22f8df41-1930-430a-a979-1517225330fd",
   "metadata": {},
   "outputs": [],
   "source": [
    "covid_df.head(10)"
   ]
  },
  {
   "cell_type": "code",
   "execution_count": null,
   "id": "f012b45a-e73c-4214-a4ce-8daae1feb8a4",
   "metadata": {},
   "outputs": [],
   "source": [
    "covid_df.info()"
   ]
  },
  {
   "cell_type": "code",
   "execution_count": null,
   "id": "1d7a26a4-bee7-4517-82da-6e05e8aa12e2",
   "metadata": {},
   "outputs": [],
   "source": [
    "covid_df.describe()"
   ]
  },
  {
   "cell_type": "code",
   "execution_count": null,
   "id": "3580ca2c-af57-4a0c-96f1-0d0fa6976ad0",
   "metadata": {},
   "outputs": [],
   "source": [
    "vaccine_df = pd.read_csv(\"C:/Users/Prateek/Desktop/Data Science/covid_vaccine_statewise.csv\")"
   ]
  },
  {
   "cell_type": "code",
   "execution_count": null,
   "id": "5f49fcae-742f-49c5-8c21-39abaa9be29d",
   "metadata": {},
   "outputs": [],
   "source": [
    "vaccine_df.head(7)"
   ]
  },
  {
   "cell_type": "code",
   "execution_count": null,
   "id": "45ab757a-cc58-45b2-8e3a-0823ed7c1279",
   "metadata": {},
   "outputs": [],
   "source": [
    "covid_df.drop([\"Sno\",\"Time\",\"ConfirmedIndianNational\",\"ConfirmedForeignNational\"],inplace=True,axis=1)\n"
   ]
  },
  {
   "cell_type": "code",
   "execution_count": null,
   "id": "2da1f6a6-fb25-4315-a647-13002929d84f",
   "metadata": {},
   "outputs": [],
   "source": [
    "covid_df.head()"
   ]
  },
  {
   "cell_type": "code",
   "execution_count": null,
   "id": "ab7996e0-f3f4-405d-83f4-7227bf9904bb",
   "metadata": {},
   "outputs": [],
   "source": [
    "covid_df['Date']=pd.to_datetime(covid_df['Date'],format='%Y-%n-%d') "
   ]
  },
  {
   "cell_type": "code",
   "execution_count": null,
   "id": "6061e7ca-bee6-41a3-a0e4-943f22cbc068",
   "metadata": {},
   "outputs": [],
   "source": [
    "covid_df.head()"
   ]
  },
  {
   "cell_type": "code",
   "execution_count": null,
   "id": "51d19155-2bce-4d15-930c-9de89fae5699",
   "metadata": {},
   "outputs": [],
   "source": [
    "# Active cases\n",
    "covid_df['Active_Cases']=covid_df['Confirmed']-(covid_df['Cured']+covid_df['Deaths'])\n",
    "covid_df.tail()                                               "
   ]
  },
  {
   "cell_type": "code",
   "execution_count": null,
   "id": "19df965c-8df4-490e-bcb7-358f8bc2f9a1",
   "metadata": {},
   "outputs": [],
   "source": [
    "statewise=pd.pivot_table(covid_df,values=[\"Confirmed\",\"Deaths\",\"Cured\"], index=\"State/UnionTerritory\",aggfunc = max)"
   ]
  },
  {
   "cell_type": "code",
   "execution_count": null,
   "id": "d3152d66-3af3-4881-aa14-5495a5812d24",
   "metadata": {},
   "outputs": [],
   "source": [
    "statewise[\"Recovery Rate\"]=statewise[\"Cured\"]+100/statewise[\"Confirmed\"]"
   ]
  },
  {
   "cell_type": "code",
   "execution_count": null,
   "id": "6abe399b-8f6a-4ad3-aedf-d7fb0a8421e9",
   "metadata": {},
   "outputs": [],
   "source": [
    "statewise[\"Mortality Rate\"]=statewise[\"Deaths\"]*100/statewise[\"Confirmed\"]"
   ]
  },
  {
   "cell_type": "code",
   "execution_count": null,
   "id": "00b3e227-2f17-4bd7-8063-f0303211eb82",
   "metadata": {},
   "outputs": [],
   "source": [
    "statewise=statewise.sort_values(by=\"Confirmed\",ascending=False)"
   ]
  },
  {
   "cell_type": "raw",
   "id": "c9bf6ac4-65ad-4515-9be9-b1bdba60e7c9",
   "metadata": {},
   "source": [
    "statewise.statewise.sort_values(by=\"Confirmed\",ascending=False)"
   ]
  },
  {
   "cell_type": "code",
   "execution_count": null,
   "id": "2530f0b9-db27-46e4-8703-a81e1c5609cb",
   "metadata": {},
   "outputs": [],
   "source": [
    "statewise.style.background_gradient(cmap=\"cubehelix\")"
   ]
  },
  {
   "cell_type": "code",
   "execution_count": null,
   "id": "bb258c8d-543d-460c-97e0-03019ca2dddf",
   "metadata": {},
   "outputs": [],
   "source": [
    "# top 10 active cases states"
   ]
  },
  {
   "cell_type": "code",
   "execution_count": null,
   "id": "7d571ed4-565f-479d-abde-0ee9850cdc86",
   "metadata": {},
   "outputs": [],
   "source": [
    "top_10_active_cases=covid_df.groupby(by='State/UnionTerritory').max()[['Active_Cases','Date']].sort_values(by=['Active_Cases'],ascending=False).reset_index()"
   ]
  },
  {
   "cell_type": "code",
   "execution_count": null,
   "id": "eac1011d-4f12-4f20-b049-5da48946e794",
   "metadata": {},
   "outputs": [],
   "source": [
    "fig=plt.figure(figsize=(16,9))"
   ]
  },
  {
   "cell_type": "code",
   "execution_count": null,
   "id": "8f4fe172-d931-4bfa-abe9-3bbc4048205b",
   "metadata": {},
   "outputs": [],
   "source": [
    "plt.title(\"Top 10 States with most active cases in India\")"
   ]
  },
  {
   "cell_type": "code",
   "execution_count": null,
   "id": "e38a6dd2-2376-457f-ba73-99b2e972c5b9",
   "metadata": {},
   "outputs": [],
   "source": [
    "ax=sns.barplot(data=top_10_active_cases.iloc[:10],y=\"Active_Cases\", x=\"State/UnionTerritory\",linewidth=2,edgecolor='red')\n"
   ]
  },
  {
   "cell_type": "code",
   "execution_count": null,
   "id": "307a61b7-1252-4f5e-b81d-4839f15d4ffe",
   "metadata": {},
   "outputs": [],
   "source": [
    "top_10_active_cases=covid_df.groupby(by='State/UnionTerritory').max()[['Active_Cases','Date']].sort_values(by=['Active_Cases'],ascending=False).reset_index()\n",
    "fig=plt.figure(figsize=(16,9))\n",
    "plt.title(\"Top 10 States with most active cases in India\")\n",
    "ax=sns.barplot(data=top_10_active_cases.iloc[:10],y=\"Active_Cases\", x=\"State/UnionTerritory\",linewidth=2,edgecolor='red')\n",
    "\n",
    "plt.xlabel(\"States\")\n",
    "plt.ylabel(\"Total Active Cases\")\n",
    "plt.show()"
   ]
  },
  {
   "cell_type": "code",
   "execution_count": null,
   "id": "4081ab7d-ea67-48c5-a645-e91181cc6f03",
   "metadata": {},
   "outputs": [],
   "source": [
    "# top states with highest deaths"
   ]
  },
  {
   "cell_type": "code",
   "execution_count": null,
   "id": "eda31710-e10b-4583-abff-612b4b64e18e",
   "metadata": {},
   "outputs": [],
   "source": [
    "top_10_deaths=covid_df.groupby(by='State/UnionTerritory').max()[['Deaths','Date']].sort_values(by=['Deaths'],ascending=False).reset_index()\n",
    "fig=plt.figure(figsize=(18,5))\n",
    "plt.title(\"Top 10 states with most deaths\",size=25)\n",
    "ax=sns.barplot(data=top_10_deaths.iloc[:12],y=\"Deaths\",x=\"State/UnionTerritory\",linewidth=2,edgecolor='black')\n",
    "plt.xlabel(\"States\")\n",
    "plt.ylabel(\"Total Death Cases\")\n",
    "plt.show()"
   ]
  },
  {
   "cell_type": "code",
   "execution_count": null,
   "id": "5d2d0859-5b8e-4c96-b440-ec04e0fb9129",
   "metadata": {},
   "outputs": [],
   "source": [
    "fig = plt.figure(figsize=(12, 6))\n",
    "\n",
    "# Creating the line plot with correct filtering\n",
    "ax = sns.lineplot(data=covid_df[covid_df['State/UnionTerritory'].isin(['Maharashtra', 'Karnataka', 'Kerala', 'Tamil Nadu', 'Uttar Pradesh'])],\n",
    "                  x='Date', y='Active_Cases', hue='State/UnionTerritory')\n",
    "\n",
    "# Setting the title\n",
    "ax.set_title(\"Top 5 Affected States In India\", size=16)\n"
   ]
  },
  {
   "cell_type": "code",
   "execution_count": null,
   "id": "64f13a04-7456-4750-889a-2d9efef155e4",
   "metadata": {},
   "outputs": [],
   "source": [
    "vaccine_df.head()"
   ]
  },
  {
   "cell_type": "code",
   "execution_count": null,
   "id": "46d26da6-0b8a-4e55-a840-a87dd43506be",
   "metadata": {},
   "outputs": [],
   "source": [
    "vaccine_df.rename(columns={'Updated On':'Vaccine_Date'},inplace=True)\n"
   ]
  },
  {
   "cell_type": "code",
   "execution_count": null,
   "id": "9fae8220-39cc-4a6e-8d46-82d97c66f45c",
   "metadata": {},
   "outputs": [],
   "source": [
    "vaccine_df.head()"
   ]
  },
  {
   "cell_type": "code",
   "execution_count": null,
   "id": "b0442518-e056-446d-933d-10a082e41145",
   "metadata": {},
   "outputs": [],
   "source": [
    "vaccine_df.head()"
   ]
  },
  {
   "cell_type": "code",
   "execution_count": null,
   "id": "225a9671-c0ae-42d2-a243-81f8331e8a6c",
   "metadata": {},
   "outputs": [],
   "source": [
    "vaccine_df.rename(columns={'Vaccine_Death':'Vaccine_Date'},inplace=True)\n"
   ]
  },
  {
   "cell_type": "code",
   "execution_count": null,
   "id": "7ce265cf-505e-4294-ad31-4418b210911f",
   "metadata": {},
   "outputs": [],
   "source": [
    "vaccine_df.head()"
   ]
  },
  {
   "cell_type": "code",
   "execution_count": null,
   "id": "cca620af-163c-429e-8fb3-feb62526ecea",
   "metadata": {},
   "outputs": [],
   "source": [
    "vaccine_df.head()"
   ]
  },
  {
   "cell_type": "code",
   "execution_count": null,
   "id": "616bcf5c-f32d-435b-b906-65a2487cc0b8",
   "metadata": {},
   "outputs": [],
   "source": [
    "vaccine_df.info()"
   ]
  },
  {
   "cell_type": "code",
   "execution_count": null,
   "id": "2677e4eb-0ce6-4f8e-906d-b821130c4a7f",
   "metadata": {},
   "outputs": [],
   "source": [
    "vaccine_df.isnull().sum()"
   ]
  },
  {
   "cell_type": "code",
   "execution_count": null,
   "id": "b91d7cbe-fc8b-4e66-bd44-80f23946d488",
   "metadata": {},
   "outputs": [],
   "source": [
    "vaccination=vaccine_df.drop(columns=['Sputnik V (Doses Administered) ','AEFI','18-44 Years (Doses Administered) ','45-60 Years (Doses Administered) ','60+ Years (Doses Administered)'])"
   ]
  },
  {
   "cell_type": "code",
   "execution_count": null,
   "id": "928e0dca-4ee6-40e0-a703-c4c8167b5e76",
   "metadata": {},
   "outputs": [],
   "source": [
    "print('Prateek')"
   ]
  },
  {
   "cell_type": "code",
   "execution_count": 2,
   "id": "bec46013-3366-4bca-90b7-b6ec9e823435",
   "metadata": {},
   "outputs": [
    {
     "ename": "NameError",
     "evalue": "name 'vaccination' is not defined",
     "output_type": "error",
     "traceback": [
      "\u001b[1;31m---------------------------------------------------------------------------\u001b[0m",
      "\u001b[1;31mNameError\u001b[0m                                 Traceback (most recent call last)",
      "Cell \u001b[1;32mIn[2], line 1\u001b[0m\n\u001b[1;32m----> 1\u001b[0m vaccination\u001b[38;5;241m.\u001b[39mhead()\n",
      "\u001b[1;31mNameError\u001b[0m: name 'vaccination' is not defined"
     ]
    }
   ],
   "source": [
    "vaccination.head()"
   ]
  },
  {
   "cell_type": "code",
   "execution_count": null,
   "id": "161e2d87-b5be-4b83-967f-df5a43bed4c0",
   "metadata": {},
   "outputs": [],
   "source": []
  },
  {
   "cell_type": "code",
   "execution_count": null,
   "id": "1fc50f12-0f80-4cf0-9e97-0583f3dd00d1",
   "metadata": {},
   "outputs": [],
   "source": []
  }
 ],
 "metadata": {
  "kernelspec": {
   "display_name": "Python 3 (ipykernel)",
   "language": "python",
   "name": "python3"
  },
  "language_info": {
   "codemirror_mode": {
    "name": "ipython",
    "version": 3
   },
   "file_extension": ".py",
   "mimetype": "text/x-python",
   "name": "python",
   "nbconvert_exporter": "python",
   "pygments_lexer": "ipython3",
   "version": "3.11.7"
  }
 },
 "nbformat": 4,
 "nbformat_minor": 5
}
